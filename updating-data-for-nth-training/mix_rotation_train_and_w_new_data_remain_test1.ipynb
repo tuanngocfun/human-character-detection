{
  "cells": [
    {
      "cell_type": "markdown",
      "metadata": {
        "id": "kMXwYiXtoIt_"
      },
      "source": [
        "split train/ for sum ratio 85%:15%:5%"
      ]
    },
    {
      "cell_type": "markdown",
      "metadata": {
        "id": "EyKkxCM0oIuB"
      },
      "source": [
        "rewrite(remove and copy from backup to target directory)"
      ]
    },
    {
      "cell_type": "code",
      "execution_count": null,
      "metadata": {
        "id": "QJi4RcC-oIuB",
        "outputId": "37fb62e1-e41c-45c2-98b0-d87b5e4843c3"
      },
      "outputs": [
        {
          "name": "stdout",
          "output_type": "stream",
          "text": [
            "Operation completed successfully!\n"
          ]
        }
      ],
      "source": [
        "import shutil\n",
        "import os\n",
        "\n",
        "# Path to remove\n",
        "path_to_remove = '/media/ngoc/mydisk/ngoc/thesis/dataset/data_v2'\n",
        "\n",
        "# Path to copy from\n",
        "path_to_copy_from = '/media/ngoc/a normal usb/ngoc/thesis/dataset/backup_data_v2/'\n",
        "\n",
        "# Check if the path_to_remove exists\n",
        "if os.path.exists(path_to_remove):\n",
        "    # Remove all subdirectories and files\n",
        "    shutil.rmtree(path_to_remove)\n",
        "\n",
        "# Create the directory again\n",
        "os.makedirs(path_to_remove)\n",
        "\n",
        "# Copy all contents from path_to_copy_from to path_to_remove\n",
        "shutil.copytree(path_to_copy_from, path_to_remove, dirs_exist_ok=True)\n",
        "\n",
        "print(\"Operation completed successfully!\")"
      ]
    },
    {
      "cell_type": "code",
      "execution_count": null,
      "metadata": {
        "id": "ebNAIqxCoIuC",
        "outputId": "9467bbfc-d032-4549-c146-10174bbae0d9"
      },
      "outputs": [
        {
          "name": "stdout",
          "output_type": "stream",
          "text": [
            "/media/ngoc/a normal usb/ngoc/thesis/dataset/backup_data_v2/:\n",
            "- with .yaml files: 1\n",
            "/media/ngoc/a normal usb/ngoc/thesis/dataset/backup_data_v2/test/images:\n",
            "- with .jpg files: 535\n",
            "/media/ngoc/a normal usb/ngoc/thesis/dataset/backup_data_v2/test/labels:\n",
            "- with .txt files: 535\n",
            "/media/ngoc/a normal usb/ngoc/thesis/dataset/backup_data_v2/train/images:\n",
            "- with .jpg files: 12063\n",
            "/media/ngoc/a normal usb/ngoc/thesis/dataset/backup_data_v2/train/labels:\n",
            "- with .txt files: 12063\n",
            "/media/ngoc/a normal usb/ngoc/thesis/dataset/backup_data_v2/valid/images:\n",
            "- with .jpg files: 1129\n",
            "/media/ngoc/a normal usb/ngoc/thesis/dataset/backup_data_v2/valid/labels:\n",
            "- with .txt files: 1129\n"
          ]
        }
      ],
      "source": [
        "import os\n",
        "from collections import defaultdict\n",
        "\n",
        "def count_files_with_same_extension(directory):\n",
        "    extension_count = defaultdict(lambda: defaultdict(int))\n",
        "\n",
        "    for root, dirs, files in os.walk(directory):\n",
        "        for file in files:\n",
        "            try:\n",
        "                file_extension = os.path.splitext(file)[1]\n",
        "                extension_count[root][file_extension] += 1\n",
        "            except PermissionError:\n",
        "                print(f\"Permission denied: {os.path.join(root, file)}, skipping this file.\")\n",
        "            except Exception as e:\n",
        "                print(f\"Error occurred: {e}. Skipping this file.\")\n",
        "    return extension_count\n",
        "\n",
        "def print_extension_counts(extension_count):\n",
        "    for dir_path, extensions in extension_count.items():\n",
        "        print(dir_path + \":\")\n",
        "        for ext, count in extensions.items():\n",
        "            print(f\"- with {ext} files: {count}\")\n",
        "\n",
        "def main():\n",
        "    try:\n",
        "        directory = '/media/ngoc/a normal usb/ngoc/thesis/dataset/backup_data_v2/'\n",
        "        if not os.path.exists(directory):\n",
        "            print(\"Invalid directory path. Please ensure the directory exists.\")\n",
        "            retur\n",
        "        extension_count = count_files_with_same_extension(directory)\n",
        "        print_extension_counts(extension_count)\n",
        "    except Exception as e:\n",
        "        print(f\"An error occurred: {e}\")\n",
        "\n",
        "if __name__ == \"__main__\":\n",
        "    main()"
      ]
    },
    {
      "cell_type": "markdown",
      "metadata": {
        "id": "g6Axb14uoIuD"
      },
      "source": [
        "simple library like random"
      ]
    },
    {
      "cell_type": "code",
      "execution_count": null,
      "metadata": {
        "id": "ZUbTYVceoIuD",
        "outputId": "a4c789d0-8c4e-45a6-8b22-1ee92af3931c"
      },
      "outputs": [
        {
          "name": "stdout",
          "output_type": "stream",
          "text": [
            "Process completed successfully!\n"
          ]
        }
      ],
      "source": [
        "import os\n",
        "import shutil\n",
        "import random\n",
        "\n",
        "def calculate_total_images(root_dir):\n",
        "    total_images = 0\n",
        "    for subdir in ['train', 'valid', 'test']:\n",
        "        images_path = os.path.join(root_dir, subdir, 'images')\n",
        "        total_images += len([f for f in os.listdir(images_path) if f.endswith('.jpg')])\n",
        "    return total_images\n",
        "\n",
        "def copy_directory_structure(src, dest):\n",
        "    for subdir, _, files in os.walk(src):\n",
        "        dest_subdir = subdir.replace(src, dest)\n",
        "        if not os.path.exists(dest_subdir):\n",
        "            os.makedirs(dest_subdir)\n",
        "\n",
        "        for file in files:\n",
        "            src_filepath = os.path.join(subdir, file)\n",
        "            dest_filepath = os.path.join(dest_subdir, file)\n",
        "\n",
        "            if not os.path.exists(dest_filepath):\n",
        "                shutil.copy2(src_filepath, dest_filepath)\n",
        "\n",
        "def move_images(train_dir, new_val_dir, test_dir, ratio):\n",
        "    train_images = [f for f in os.listdir(train_dir) if f.endswith('.jpg')]\n",
        "    random.shuffle(train_images)\n",
        "\n",
        "    total_train = int(ratio[0] * len(train_images))\n",
        "    total_val = int(ratio[1] * len(train_images))\n",
        "    total_test = len(train_images) - total_train - total_val\n",
        "\n",
        "    # Move to new-val\n",
        "    for i in range(total_val):\n",
        "        img_name = train_images[i]\n",
        "        label_name = img_name.replace('.jpg', '.txt')\n",
        "        shutil.move(os.path.join(train_dir, img_name), os.path.join(new_val_dir, img_name))\n",
        "        shutil.move(os.path.join(train_dir.replace('images', 'labels'), label_name), os.path.join(new_val_dir.replace('images', 'labels'), label_name))\n",
        "\n",
        "    # Move to test\n",
        "    for i in range(total_val, total_val + total_test):\n",
        "        img_name = train_images[i]\n",
        "        label_name = img_name.replace('.jpg', '.txt')\n",
        "        shutil.move(os.path.join(train_dir, img_name), os.path.join(test_dir, img_name))\n",
        "        shutil.move(os.path.join(train_dir.replace('images', 'labels'), label_name), os.path.join(test_dir.replace('images', 'labels'), label_name))\n",
        "\n",
        "def validate_dir(directory):\n",
        "    images = set([f.replace('.jpg', '') for f in os.listdir(os.path.join(directory, 'images')) if f.endswith('.jpg')])\n",
        "    labels = set([f.replace('.txt', '') for f in os.listdir(os.path.join(directory, 'labels')) if f.endswith('.txt')])\n",
        "    return images == labels\n",
        "\n",
        "root_dir = 'dataset/data_v2/'\n",
        "destination_dir = '/media/ngoc/a normal usb/ngoc/thesis/dataset/backup_data_v2/'\n",
        "copy_directory_structure(root_dir, destination_dir)\n",
        "total_images = calculate_total_images(root_dir)\n",
        "\n",
        "ratio = (0.85, 0.15, 0.05)\n",
        "new_val_dir = os.path.join(root_dir, 'new-val', 'images')\n",
        "os.makedirs(new_val_dir, exist_ok=True)\n",
        "os.makedirs(new_val_dir.replace('images', 'labels'), exist_ok=True)\n",
        "move_images(os.path.join(root_dir, 'train', 'images'), new_val_dir, os.path.join(root_dir, 'test', 'images'), ratio)\n",
        "\n",
        "for subdir in ['train', 'new-val', 'test']:\n",
        "    if not validate_dir(os.path.join(root_dir, subdir)):\n",
        "        print(f\"Validation failed for {subdir}\")\n",
        "\n",
        "print(\"Process completed successfully!\")"
      ]
    },
    {
      "cell_type": "code",
      "execution_count": null,
      "metadata": {
        "id": "upOx5NuioIuD",
        "outputId": "b7f0ac66-9c52-4cde-a096-e1c6a8b6a138"
      },
      "outputs": [
        {
          "name": "stdout",
          "output_type": "stream",
          "text": [
            "dataset/data_v2/:\n",
            "- with .yaml files: 1\n",
            "dataset/data_v2/test/images:\n",
            "- with .jpg files: 536\n",
            "dataset/data_v2/test/labels:\n",
            "- with .txt files: 536\n",
            "dataset/data_v2/new-val/images:\n",
            "- with .jpg files: 1809\n",
            "dataset/data_v2/new-val/labels:\n",
            "- with .txt files: 1809\n",
            "dataset/data_v2/valid/images:\n",
            "- with .jpg files: 1129\n",
            "dataset/data_v2/valid/labels:\n",
            "- with .txt files: 1129\n",
            "dataset/data_v2/train/images:\n",
            "- with .jpg files: 10253\n",
            "dataset/data_v2/train/labels:\n",
            "- with .txt files: 10253\n"
          ]
        }
      ],
      "source": [
        "import os\n",
        "from collections import defaultdict\n",
        "\n",
        "def count_files_with_same_extension(directory):\n",
        "    extension_count = defaultdict(lambda: defaultdict(int))\n",
        "\n",
        "    for root, dirs, files in os.walk(directory):\n",
        "        for file in files:\n",
        "            try:\n",
        "                file_extension = os.path.splitext(file)[1]\n",
        "                extension_count[root][file_extension] += 1\n",
        "            except PermissionError:\n",
        "                print(f\"Permission denied: {os.path.join(root, file)}, skipping this file.\")\n",
        "            except Exception as e:\n",
        "                print(f\"Error occurred: {e}. Skipping this file.\")\n",
        "    return extension_count\n",
        "\n",
        "def print_extension_counts(extension_count):\n",
        "    for dir_path, extensions in extension_count.items():\n",
        "        print(dir_path + \":\")\n",
        "        for ext, count in extensions.items():\n",
        "            print(f\"- with {ext} files: {count}\")\n",
        "\n",
        "def main():\n",
        "    try:\n",
        "        directory = 'dataset/data_v2/'\n",
        "        if not os.path.exists(directory):\n",
        "            print(\"Invalid directory path. Please ensure the directory exists.\")\n",
        "            return\n",
        "        extension_count = count_files_with_same_extension(directory)\n",
        "        print_extension_counts(extension_count)\n",
        "    except Exception as e:\n",
        "        print(f\"An error occurred: {e}\")\n",
        "\n",
        "if __name__ == \"__main__\":\n",
        "    main()"
      ]
    },
    {
      "cell_type": "markdown",
      "metadata": {
        "id": "b_NxAGJ8oIuD"
      },
      "source": [
        "code checking ratio of images data in each dataset namely train, validation and test"
      ]
    },
    {
      "cell_type": "code",
      "execution_count": null,
      "metadata": {
        "id": "ChuCUHSxoIuD",
        "outputId": "35de767a-b062-4379-bc1f-cb3c879865c4"
      },
      "outputs": [
        {
          "name": "stdout",
          "output_type": "stream",
          "text": [
            "The image distribution does not conform to the ratio 85:15:5. Actual ratio: 75:21:4.\n"
          ]
        }
      ],
      "source": [
        "import os\n",
        "\n",
        "def get_total_images_in_subdir(subdir_path):\n",
        "    return len([f for f in os.listdir(subdir_path) if f.endswith('.jpg')])\n",
        "\n",
        "def check_image_distribution(root_dir):\n",
        "    train_images_count = get_total_images_in_subdir(os.path.join(root_dir, 'train', 'images'))\n",
        "    val_images_count = get_total_images_in_subdir(os.path.join(root_dir, 'new-val', 'images')) + get_total_images_in_subdir(os.path.join(root_dir, 'valid', 'images'))\n",
        "    test_images_count = get_total_images_in_subdir(os.path.join(root_dir, 'test', 'images'))\n",
        "\n",
        "    total_images = train_images_count + val_images_count + test_images_count\n",
        "    ratio_train = (train_images_count / total_images) * 100\n",
        "    ratio_val = (val_images_count / total_images) * 100\n",
        "    ratio_test = (test_images_count / total_images) * 100\n",
        "\n",
        "    if round(ratio_train) == 85 and round(ratio_val) == 15 and round(ratio_test) == 5:\n",
        "        print(\"The image distribution conforms to the ratio 85:15:5.\")\n",
        "    else:\n",
        "        print(f\"The image distribution does not conform to the ratio 85:15:5. Actual ratio: {round(ratio_train)}:{round(ratio_val)}:{round(ratio_test)}.\")\n",
        "\n",
        "root_dir = 'dataset/data_v2/'\n",
        "check_image_distribution(root_dir)"
      ]
    },
    {
      "cell_type": "markdown",
      "metadata": {
        "id": "Zd06XOUDoIuD"
      },
      "source": [
        "code automate disseminate data smartly to spread out data from validation set to training set, and validation set and training set to test set."
      ]
    },
    {
      "cell_type": "markdown",
      "metadata": {
        "id": "60x4FuJmoIuE"
      },
      "source": [
        "run another experiment with old data"
      ]
    },
    {
      "cell_type": "code",
      "execution_count": null,
      "metadata": {
        "id": "1Qc9SmCcoIuE"
      },
      "outputs": [],
      "source": [
        "import os\n",
        "import shutil\n",
        "\n",
        "def move_images(src_dir, dest_dir, num_images):\n",
        "    image_files = [f for f in os.listdir(src_dir) if f.endswith('.jpg')]\n",
        "    for i in range(num_images):\n",
        "        image_file = image_files[i]\n",
        "        label_file = image_file.replace('.jpg', '.txt')\n",
        "        shutil.move(os.path.join(src_dir, image_file), os.path.join(dest_dir, image_file))\n",
        "        shutil.move(os.path.join(src_dir.replace('images', 'labels'), label_file), os.path.join(dest_dir.replace('images', 'labels'), label_file))\n",
        "\n",
        "def adjust_distribution(root_dir):\n",
        "    # Get the current counts\n",
        "    total_images = get_total_images_in_subdir(os.path.join(root_dir, 'train', 'images')) + \\\n",
        "                    get_total_images_in_subdir(os.path.join(root_dir, 'new-val', 'images')) + \\\n",
        "                    get_total_images_in_subdir(os.path.join(root_dir, 'valid', 'images')) + \\\n",
        "                    get_total_images_in_subdir(os.path.join(root_dir, 'test', 'images'))\n",
        "    target_train = int(total_images * 0.85)\n",
        "    target_val = int(total_images * 0.15)\n",
        "    target_test = int(total_images * 0.05)\n",
        "\n",
        "    # Calculate the difference in current and target counts\n",
        "    diff_train = target_train - get_total_images_in_subdir(os.path.join(root_dir, 'train', 'images'))\n",
        "    diff_val = target_val - (get_total_images_in_subdir(os.path.join(root_dir, 'new-val', 'images')) + get_total_images_in_subdir(os.path.join(root_dir, 'valid', 'images')))\n",
        "\n",
        "    # Move images from train to new-val/valid to adjust the distribution\n",
        "    if diff_val > 0:\n",
        "        move_images(os.path.join(root_dir, 'train', 'images'), os.path.join(root_dir, 'new-val', 'images'), diff_val)\n",
        "    else:\n",
        "        move_images(os.path.join(root_dir, 'new-val', 'images'), os.path.join(root_dir, 'train', 'images'), -diff_val)\n",
        "\n",
        "    # Move images from train to test to adjust the distribution\n",
        "    diff_test = target_test - get_total_images_in_subdir(os.path.join(root_dir, 'test', 'images'))\n",
        "    if diff_test > 0:\n",
        "        move_images(os.path.join(root_dir, 'train', 'images'), os.path.join(root_dir, 'test', 'images'), diff_test)\n",
        "\n",
        "root_dir = 'dataset/data_v2/'\n",
        "adjust_distribution(root_dir)"
      ]
    },
    {
      "cell_type": "markdown",
      "metadata": {
        "id": "7nAYK_iOoIuE"
      },
      "source": [
        "check"
      ]
    },
    {
      "cell_type": "code",
      "execution_count": null,
      "metadata": {
        "id": "ng1ebPctoIuE",
        "outputId": "7b2ec078-834c-4131-f2fb-880d3bc3b156"
      },
      "outputs": [
        {
          "name": "stdout",
          "output_type": "stream",
          "text": [
            "The image distribution conforms to the ratio 80:15:5.\n"
          ]
        }
      ],
      "source": [
        "import os\n",
        "\n",
        "def get_total_images_in_subdir(subdir_path):\n",
        "    return len([f for f in os.listdir(subdir_path) if f.endswith('.jpg')])\n",
        "\n",
        "def check_image_distribution(root_dir):\n",
        "    train_images_count = get_total_images_in_subdir(os.path.join(root_dir, 'train', 'images'))\n",
        "    val_images_count = get_total_images_in_subdir(os.path.join(root_dir, 'new-val', 'images')) + get_total_images_in_subdir(os.path.join(root_dir, 'valid', 'images'))\n",
        "    test_images_count = get_total_images_in_subdir(os.path.join(root_dir, 'test', 'images'))\n",
        "\n",
        "    total_images = train_images_count + val_images_count + test_images_count\n",
        "    ratio_train = (train_images_count / total_images) * 100\n",
        "    ratio_val = (val_images_count / total_images) * 100\n",
        "    ratio_test = (test_images_count / total_images) * 100\n",
        "\n",
        "    if round(ratio_train) == 80 and round(ratio_val) == 15 and round(ratio_test) == 5:\n",
        "        print(\"The image distribution conforms to the ratio 80:15:5.\")\n",
        "    else:\n",
        "        print(f\"The image distribution does not conform to the ratio 80:15:5. Actual ratio: {round(ratio_train)}:{round(ratio_val)}:{round(ratio_test)}.\")\n",
        "\n",
        "root_dir = 'dataset/data_v2/'\n",
        "check_image_distribution(root_dir)"
      ]
    },
    {
      "cell_type": "code",
      "execution_count": null,
      "metadata": {
        "id": "PIC5sOYdoIuE",
        "outputId": "dd845db4-5d2e-4993-c7ee-3aa6d94db90d"
      },
      "outputs": [
        {
          "name": "stdout",
          "output_type": "stream",
          "text": [
            "dataset/data_v2/:\n",
            "- with .yaml files: 1\n",
            "dataset/data_v2/test/images:\n",
            "- with .jpg files: 686\n",
            "dataset/data_v2/test/labels:\n",
            "- with .txt files: 686\n",
            "dataset/data_v2/new-val/images:\n",
            "- with .jpg files: 930\n",
            "dataset/data_v2/new-val/labels:\n",
            "- with .txt files: 930\n",
            "dataset/data_v2/valid/images:\n",
            "- with .jpg files: 1129\n",
            "dataset/data_v2/valid/labels:\n",
            "- with .txt files: 1129\n",
            "dataset/data_v2/train/images:\n",
            "- with .jpg files: 10982\n",
            "dataset/data_v2/train/labels:\n",
            "- with .txt files: 10982\n"
          ]
        }
      ],
      "source": [
        "import os\n",
        "from collections import defaultdict\n",
        "\n",
        "def count_files_with_same_extension(directory):\n",
        "    extension_count = defaultdict(lambda: defaultdict(int))\n",
        "\n",
        "    for root, dirs, files in os.walk(directory):\n",
        "        for file in files:\n",
        "            try:\n",
        "                file_extension = os.path.splitext(file)[1]\n",
        "                extension_count[root][file_extension] += 1\n",
        "            except PermissionError:\n",
        "                print(f\"Permission denied: {os.path.join(root, file)}, skipping this file.\")\n",
        "            except Exception as e:\n",
        "                print(f\"Error occurred: {e}. Skipping this file.\")\n",
        "    return extension_count\n",
        "\n",
        "def print_extension_counts(extension_count):\n",
        "    for dir_path, extensions in extension_count.items():\n",
        "        print(dir_path + \":\")\n",
        "        for ext, count in extensions.items():\n",
        "            print(f\"- with {ext} files: {count}\")\n",
        "\n",
        "def main():\n",
        "    try:\n",
        "        directory = 'dataset/data_v2/'\n",
        "        if not os.path.exists(directory):\n",
        "            print(\"Invalid directory path. Please ensure the directory exists.\")\n",
        "            return\n",
        "        extension_count = count_files_with_same_extension(directory)\n",
        "        print_extension_counts(extension_count)\n",
        "    except Exception as e:\n",
        "        print(f\"An error occurred: {e}\")\n",
        "\n",
        "if __name__ == \"__main__\":\n",
        "    main()"
      ]
    }
  ],
  "metadata": {
    "colab": {
      "provenance": []
    },
    "kernelspec": {
      "display_name": "labelImg",
      "language": "python",
      "name": "python3"
    },
    "language_info": {
      "codemirror_mode": {
        "name": "ipython",
        "version": 3
      },
      "file_extension": ".py",
      "mimetype": "text/x-python",
      "name": "python",
      "nbconvert_exporter": "python",
      "pygments_lexer": "ipython3",
      "version": "3.10.6"
    },
    "orig_nbformat": 4
  },
  "nbformat": 4,
  "nbformat_minor": 0
}
