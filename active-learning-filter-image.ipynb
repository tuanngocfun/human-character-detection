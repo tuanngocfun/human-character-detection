{
 "cells": [
  {
   "cell_type": "code",
   "execution_count": 1,
   "metadata": {},
   "outputs": [],
   "source": [
    "import os\n",
    "import shutil\n",
    "\n",
    "source_directory = 'faiss/active-learning/remove-by-hand-trial2'\n",
    "image_directory = os.path.join(source_directory, 'images')\n",
    "label_directory = os.path.join(source_directory, 'labels')\n",
    "txt_directory = 'data/filterme/labels'\n",
    "\n",
    "# Create target directories if they don't exist\n",
    "os.makedirs(image_directory, exist_ok=True)\n",
    "os.makedirs(label_directory, exist_ok=True)\n",
    "\n",
    "# Copy files from source to image_directory\n",
    "for file in os.listdir(source_directory):\n",
    "    if file.endswith('.jpg'):\n",
    "        shutil.copy(os.path.join(source_directory, file), image_directory)\n",
    "\n",
    "# Copy corresponding txt files from txt_directory to label_directory\n",
    "for file in os.listdir(txt_directory):\n",
    "    if file.endswith('.txt'):\n",
    "        corresponding_image_file = os.path.join(image_directory, file.replace('.txt', '.jpg'))\n",
    "        if os.path.isfile(corresponding_image_file):\n",
    "            shutil.copy(os.path.join(txt_directory, file), label_directory)\n",
    "\n",
    "# Remove non-corresponding jpg files in image_directory\n",
    "for file in os.listdir(image_directory):\n",
    "    if file.endswith('.jpg'):\n",
    "        corresponding_label_file = os.path.join(label_directory, file.replace('.jpg', '.txt'))\n",
    "        if not os.path.isfile(corresponding_label_file):\n",
    "            os.remove(os.path.join(image_directory, file))\n",
    "\n",
    "# Remove non-corresponding txt files in label_directory\n",
    "for file in os.listdir(label_directory):\n",
    "    if file.endswith('.txt'):\n",
    "        corresponding_image_file = os.path.join(image_directory, file.replace('.txt', '.jpg'))\n",
    "        if not os.path.isfile(corresponding_image_file):\n",
    "            os.remove(os.path.join(label_directory, file))\n"
   ]
  },
  {
   "cell_type": "code",
   "execution_count": 4,
   "metadata": {},
   "outputs": [
    {
     "name": "stdout",
     "output_type": "stream",
     "text": [
      "faiss/active-learning/remove-by-hand-trial2/set1/model-label-and-remove-similarity:\n",
      "- with .txt files: 1\n",
      "faiss/active-learning/remove-by-hand-trial2/set1/model-label-and-remove-similarity/labels:\n",
      "- with .txt files: 40\n",
      "faiss/active-learning/remove-by-hand-trial2/set1/model-label-and-remove-similarity/images:\n",
      "- with .jpg files: 40\n",
      "faiss/active-learning/remove-by-hand-trial2/set1/manually:\n",
      "- with .zip files: 1\n",
      "faiss/active-learning/remove-by-hand-trial2/set1/manually/activ-labeling.v1i.yolov8:\n",
      "- with .txt files: 2\n",
      "- with .yaml files: 1\n",
      "faiss/active-learning/remove-by-hand-trial2/set1/manually/activ-labeling.v1i.yolov8/train/labels:\n",
      "- with .txt files: 39\n",
      "faiss/active-learning/remove-by-hand-trial2/set1/manually/activ-labeling.v1i.yolov8/train/images:\n",
      "- with .jpg files: 39\n"
     ]
    }
   ],
   "source": [
    "import os\n",
    "from collections import defaultdict\n",
    "\n",
    "def count_files_with_same_extension(directory):\n",
    "    extension_count = defaultdict(lambda: defaultdict(int))\n",
    "\n",
    "    for root, dirs, files in os.walk(directory):\n",
    "        for file in files:\n",
    "            try:\n",
    "                file_extension = os.path.splitext(file)[1]\n",
    "                extension_count[root][file_extension] += 1\n",
    "            except PermissionError:\n",
    "                print(f\"Permission denied: {os.path.join(root, file)}, skipping this file.\")\n",
    "            except Exception as e:\n",
    "                print(f\"Error occurred: {e}. Skipping this file.\")\n",
    "    return extension_count\n",
    "\n",
    "def print_extension_counts(extension_count):\n",
    "    for dir_path, extensions in extension_count.items():\n",
    "        print(dir_path + \":\")\n",
    "        for ext, count in extensions.items():\n",
    "            print(f\"- with {ext} files: {count}\")\n",
    "\n",
    "def main():\n",
    "    try:\n",
    "        directory = input(\"Enter the directory path: \")\n",
    "        if not os.path.exists(directory):\n",
    "            print(\"Invalid directory path. Please try again.\")\n",
    "            return\n",
    "        extension_count = count_files_with_same_extension(directory)\n",
    "        print_extension_counts(extension_count)\n",
    "    except Exception as e:\n",
    "        print(f\"An error occurred: {e}\")\n",
    "\n",
    "if __name__ == \"__main__\":\n",
    "    main()"
   ]
  },
  {
   "cell_type": "code",
   "execution_count": null,
   "metadata": {},
   "outputs": [],
   "source": [
    "# data preprocessing"
   ]
  },
  {
   "cell_type": "code",
   "execution_count": 10,
   "metadata": {},
   "outputs": [
    {
     "name": "stdout",
     "output_type": "stream",
     "text": [
      "Copied files from data/filterme to data/filterme-backup\n",
      "Removed images and corresponding labels from data/filterme/images and data/filterme/labels\n",
      "Copied files from faiss/active-learning/remove-by-hand-trial2/set1/manually/activ-labeling.v1i.yolov8/train/images to data/filterme/images\n",
      "Copied files from faiss/active-learning/remove-by-hand-trial2/set1/manually/activ-labeling.v1i.yolov8/train/labels to data/filterme/labels\n"
     ]
    }
   ],
   "source": [
    "import os\n",
    "import shutil\n",
    "\n",
    "def copy_files(src_dir, dest_dir):\n",
    "    files = os.listdir(src_dir)\n",
    "    for file_name in files:\n",
    "        full_file_name = os.path.join(src_dir, file_name)\n",
    "        if os.path.isfile(full_file_name):\n",
    "            shutil.copy(full_file_name, dest_dir)\n",
    "    print(f\"Copied files from {src_dir} to {dest_dir}\")\n",
    "\n",
    "def remove_same_name_images(src_dir, reference_dir, labels_dir):\n",
    "    ref_files = os.listdir(reference_dir)\n",
    "    img_files = os.listdir(src_dir)\n",
    "    common_files = set(ref_files).intersection(img_files)\n",
    "    for file_name in common_files:\n",
    "        os.remove(os.path.join(src_dir, file_name))\n",
    "        txt_file_name = file_name.rsplit('.', 1)[0] + '.txt'\n",
    "        os.remove(os.path.join(labels_dir, txt_file_name))\n",
    "    print(f\"Removed images and corresponding labels from {src_dir} and {labels_dir}\")\n",
    "\n",
    "copy_files('data/filterme', 'data/filterme-backup')\n",
    "\n",
    "remove_same_name_images('data/filterme/images', 'faiss/human-trial2', 'data/filterme/labels')\n",
    "\n",
    "copy_files('faiss/active-learning/remove-by-hand-trial2/set1/manually/activ-labeling.v1i.yolov8/train/images', 'data/filterme/images')\n",
    "copy_files('faiss/active-learning/remove-by-hand-trial2/set1/manually/activ-labeling.v1i.yolov8/train/labels', 'data/filterme/labels')\n"
   ]
  },
  {
   "cell_type": "code",
   "execution_count": 11,
   "metadata": {},
   "outputs": [
    {
     "name": "stdout",
     "output_type": "stream",
     "text": [
      "data/filterme/labels:\n",
      "- with .txt files: 8104\n",
      "data/filterme/images:\n",
      "- with .jpg files: 8104\n"
     ]
    }
   ],
   "source": [
    "import os\n",
    "from collections import defaultdict\n",
    "\n",
    "def count_files_with_same_extension(directory):\n",
    "    extension_count = defaultdict(lambda: defaultdict(int))\n",
    "\n",
    "    for root, dirs, files in os.walk(directory):\n",
    "        for file in files:\n",
    "            try:\n",
    "                file_extension = os.path.splitext(file)[1]\n",
    "                extension_count[root][file_extension] += 1\n",
    "            except PermissionError:\n",
    "                print(f\"Permission denied: {os.path.join(root, file)}, skipping this file.\")\n",
    "            except Exception as e:\n",
    "                print(f\"Error occurred: {e}. Skipping this file.\")\n",
    "    return extension_count\n",
    "\n",
    "def print_extension_counts(extension_count):\n",
    "    for dir_path, extensions in extension_count.items():\n",
    "        print(dir_path + \":\")\n",
    "        for ext, count in extensions.items():\n",
    "            print(f\"- with {ext} files: {count}\")\n",
    "\n",
    "def main():\n",
    "    try:\n",
    "        directory = input(\"Enter the directory path: \")\n",
    "        if not os.path.exists(directory):\n",
    "            print(\"Invalid directory path. Please try again.\")\n",
    "            return\n",
    "        extension_count = count_files_with_same_extension(directory)\n",
    "        print_extension_counts(extension_count)\n",
    "    except Exception as e:\n",
    "        print(f\"An error occurred: {e}\")\n",
    "\n",
    "if __name__ == \"__main__\":\n",
    "    main()"
   ]
  }
 ],
 "metadata": {
  "kernelspec": {
   "display_name": "faiss",
   "language": "python",
   "name": "python3"
  },
  "language_info": {
   "codemirror_mode": {
    "name": "ipython",
    "version": 3
   },
   "file_extension": ".py",
   "mimetype": "text/x-python",
   "name": "python",
   "nbconvert_exporter": "python",
   "pygments_lexer": "ipython3",
   "version": "3.10.12"
  },
  "orig_nbformat": 4
 },
 "nbformat": 4,
 "nbformat_minor": 2
}
