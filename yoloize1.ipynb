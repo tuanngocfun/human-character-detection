{
 "cells": [
  {
   "cell_type": "code",
   "execution_count": 1,
   "metadata": {},
   "outputs": [
    {
     "name": "stdout",
     "output_type": "stream",
     "text": [
      "YAML file written to dataset/data_v1/data.yaml\n"
     ]
    }
   ],
   "source": [
    "import os\n",
    "import shutil\n",
    "import yaml\n",
    "\n",
    "def write_yaml(data_dir, num_classes, class_names):\n",
    "    test_path = './test/images'  # explicitly defining test_path here\n",
    "    data_yaml = dict(\n",
    "        train = './train/images',  # path for training images\n",
    "        val = './valid/images',    # path for valid images\n",
    "        test = test_path,          # path for test images\n",
    "        nc = num_classes,\n",
    "        names = class_names\n",
    "    )\n",
    "\n",
    "    with open(os.path.join(data_dir, 'data.yaml'), 'w') as outfile:\n",
    "        yaml.dump(data_yaml, outfile, sort_keys=False, default_flow_style=False)\n",
    "\n",
    "    print('YAML file written to', os.path.join(data_dir, 'data.yaml'))\n",
    "\n",
    "def create_target_directory(target_dir):\n",
    "    if not os.path.exists(target_dir):\n",
    "        os.makedirs(target_dir)\n",
    "\n",
    "def copy_directory(src_dir, dest_dir):\n",
    "    if os.path.exists(dest_dir):\n",
    "        shutil.rmtree(dest_dir)\n",
    "    shutil.copytree(src_dir, dest_dir)\n",
    "\n",
    "target_directory = 'dataset/data_v1'\n",
    "create_target_directory(target_directory)\n",
    "\n",
    "# Copy 'dataset/data/test' to the target directory\n",
    "copy_directory('dataset/data/test', os.path.join(target_directory, 'test'))\n",
    "\n",
    "# Copy 'data/filterme-origin' to the target directory with the name 'train'\n",
    "copy_directory('data/filterme-origin', os.path.join(target_directory, 'train'))\n",
    "\n",
    "# Copy 'dataset/evaluate/valid/' to the target directory\n",
    "copy_directory('dataset/evaluate/valid/', os.path.join(target_directory, 'valid'))\n",
    "\n",
    "# Write the data.yaml file\n",
    "base_path = target_directory\n",
    "class_names = [\"Human\"]\n",
    "num_classes = len(class_names)\n",
    "write_yaml(base_path, num_classes, class_names)"
   ]
  },
  {
   "cell_type": "code",
   "execution_count": 2,
   "metadata": {},
   "outputs": [
    {
     "name": "stdout",
     "output_type": "stream",
     "text": [
      "dataset/data_v1/:\n",
      "- with .yaml files: 1\n",
      "dataset/data_v1/test/images:\n",
      "- with .jpg files: 535\n",
      "dataset/data_v1/test/labels:\n",
      "- with .txt files: 535\n",
      "dataset/data_v1/valid/images:\n",
      "- with .jpg files: 1129\n",
      "dataset/data_v1/valid/labels:\n",
      "- with .txt files: 1129\n",
      "dataset/data_v1/train/images:\n",
      "- with .jpg files: 7677\n",
      "dataset/data_v1/train/labels:\n",
      "- with .txt files: 7677\n"
     ]
    }
   ],
   "source": [
    "import os\n",
    "from collections import defaultdict\n",
    "\n",
    "def count_files_with_same_extension(directory):\n",
    "    extension_count = defaultdict(lambda: defaultdict(int))\n",
    "\n",
    "    for root, dirs, files in os.walk(directory):\n",
    "        for file in files:\n",
    "            try:\n",
    "                file_extension = os.path.splitext(file)[1]\n",
    "                extension_count[root][file_extension] += 1\n",
    "            except PermissionError:\n",
    "                print(f\"Permission denied: {os.path.join(root, file)}, skipping this file.\")\n",
    "            except Exception as e:\n",
    "                print(f\"Error occurred: {e}. Skipping this file.\")\n",
    "    return extension_count\n",
    "\n",
    "def print_extension_counts(extension_count):\n",
    "    for dir_path, extensions in extension_count.items():\n",
    "        print(dir_path + \":\")\n",
    "        for ext, count in extensions.items():\n",
    "            print(f\"- with {ext} files: {count}\")\n",
    "\n",
    "def main():\n",
    "    try:\n",
    "        directory = input(\"Enter the directory path: \")\n",
    "        if not os.path.exists(directory):\n",
    "            print(\"Invalid directory path. Please try again.\")\n",
    "            return\n",
    "        extension_count = count_files_with_same_extension(directory)\n",
    "        print_extension_counts(extension_count)\n",
    "    except Exception as e:\n",
    "        print(f\"An error occurred: {e}\")\n",
    "\n",
    "if __name__ == \"__main__\":\n",
    "    main()"
   ]
  }
 ],
 "metadata": {
  "kernelspec": {
   "display_name": "labelImg",
   "language": "python",
   "name": "python3"
  },
  "language_info": {
   "codemirror_mode": {
    "name": "ipython",
    "version": 3
   },
   "file_extension": ".py",
   "mimetype": "text/x-python",
   "name": "python",
   "nbconvert_exporter": "python",
   "pygments_lexer": "ipython3",
   "version": "3.10.6"
  },
  "orig_nbformat": 4
 },
 "nbformat": 4,
 "nbformat_minor": 2
}
