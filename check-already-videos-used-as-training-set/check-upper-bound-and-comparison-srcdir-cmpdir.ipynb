{
 "cells": [
  {
   "cell_type": "markdown",
   "metadata": {},
   "source": [
    "anime"
   ]
  },
  {
   "cell_type": "markdown",
   "metadata": {},
   "source": [
    "validation set"
   ]
  },
  {
   "cell_type": "code",
   "execution_count": 1,
   "metadata": {},
   "outputs": [],
   "source": [
    "import os\n",
    "import shutil\n",
    "import glob\n",
    "\n",
    "def copy_files(source_directory, comparison_directories, destination_directory, limit=500*1024*1024):\n",
    "    total_size = 0\n",
    "\n",
    "    # Make sure comparison_directories is a list\n",
    "    if not isinstance(comparison_directories, list):\n",
    "        comparison_directories = [comparison_directories]\n",
    "\n",
    "    # Accumulate comparison files from all directories\n",
    "    comparison_files = set()\n",
    "    for comp_dir in comparison_directories:\n",
    "        comparison_files.update(os.listdir(comp_dir))\n",
    "\n",
    "    if not os.path.exists(destination_directory):\n",
    "        os.makedirs(destination_directory)\n",
    "\n",
    "    for foldername, subfolders, filenames in os.walk(source_directory):\n",
    "        for filename in filenames:\n",
    "            if filename.endswith('.mp4'):\n",
    "                source_file_path = os.path.join(foldername, filename)\n",
    "                file_size = os.path.getsize(source_file_path)\n",
    "\n",
    "                if filename not in comparison_files and total_size + file_size <= limit:\n",
    "                    shutil.copy2(source_file_path, os.path.join(destination_directory, filename))\n",
    "                    total_size += file_size\n",
    "                elif total_size + file_size > limit:\n",
    "                    break\n",
    "\n",
    "pattern = '../../filter-vid*'\n",
    "comparison_directories = [folder for folder in glob.glob(pattern) if os.path.isdir(folder)]\n",
    "comparison_directories.append('../../data1')  # Include additional directory\n",
    "\n",
    "max_number = max(\n",
    "    int(folder.split('filter-vid')[-1]) if folder.startswith('../../filter-vid') and folder.split('filter-vid')[-1].isdigit() else -1\n",
    "    for folder in comparison_directories\n",
    ")\n",
    "\n",
    "destination_directory = f'../../filter-vid{max_number + 1}'\n",
    "\n",
    "source_directory = '../../videos/val'\n",
    "copy_files(source_directory, comparison_directories, destination_directory)"
   ]
  },
  {
   "attachments": {},
   "cell_type": "markdown",
   "metadata": {},
   "source": [
    "cartoon"
   ]
  },
  {
   "cell_type": "code",
   "execution_count": null,
   "metadata": {},
   "outputs": [],
   "source": [
    "import os\n",
    "import shutil\n",
    "\n",
    "def copy_files(source_directory, comparison_directories, destination_directory, limit=600*1024*1024):\n",
    "    total_size = 0\n",
    "\n",
    "    # Make sure comparison_directories is a list\n",
    "    if not isinstance(comparison_directories, list):\n",
    "        comparison_directories = [comparison_directories]\n",
    "    \n",
    "    # Accumulate comparison files from all directories\n",
    "    comparison_files = set()\n",
    "    for comp_dir in comparison_directories:\n",
    "        comparison_files.update(os.listdir(comp_dir))\n",
    "\n",
    "    if not os.path.exists(destination_directory):\n",
    "        os.makedirs(destination_directory)\n",
    "\n",
    "    for foldername, subfolders, filenames in os.walk(source_directory):\n",
    "        for filename in filenames:\n",
    "            if filename.endswith('.mp4'):  \n",
    "                source_file_path = os.path.join(foldername, filename)\n",
    "                file_size = os.path.getsize(source_file_path)\n",
    "\n",
    "                if filename not in comparison_files and total_size + file_size <= limit:\n",
    "                    shutil.copy2(source_file_path, os.path.join(destination_directory, filename))\n",
    "                    total_size += file_size\n",
    "                elif total_size + file_size > limit:\n",
    "                    break  \n",
    "\n",
    "source_directory = 'videos/train/cartoon'\n",
    "comparison_directories = ['data1', 'filter-vid1']  #  can add more directories here\n",
    "destination_directory = 'filter-vid2'\n",
    "copy_files(source_directory, comparison_directories, destination_directory)"
   ]
  },
  {
   "cell_type": "code",
   "execution_count": 1,
   "metadata": {},
   "outputs": [
    {
     "name": "stdout",
     "output_type": "stream",
     "text": [
      "/media/ngoc/mydisk/ngoc/thesis/important-files/check-already-videos-used-as-training-set\n"
     ]
    }
   ],
   "source": [
    "!pwd"
   ]
  },
  {
   "cell_type": "markdown",
   "metadata": {},
   "source": []
  },
  {
   "cell_type": "markdown",
   "metadata": {},
   "source": [
    "cartoon"
   ]
  },
  {
   "cell_type": "code",
   "execution_count": 7,
   "metadata": {},
   "outputs": [],
   "source": [
    "import os\n",
    "import shutil\n",
    "import glob\n",
    "\n",
    "def copy_files(source_directory, comparison_directories, destination_directory, limit=500*1024*1024):\n",
    "    total_size = 0\n",
    "\n",
    "    # Make sure comparison_directories is a list\n",
    "    if not isinstance(comparison_directories, list):\n",
    "        comparison_directories = [comparison_directories]\n",
    "\n",
    "    # Accumulate comparison files from all directories\n",
    "    comparison_files = set()\n",
    "    for comp_dir in comparison_directories:\n",
    "        comparison_files.update(os.listdir(comp_dir))\n",
    "\n",
    "    if not os.path.exists(destination_directory):\n",
    "        os.makedirs(destination_directory)\n",
    "\n",
    "    for foldername, subfolders, filenames in os.walk(source_directory):\n",
    "        for filename in filenames:\n",
    "            if filename.endswith('.mp4'):\n",
    "                source_file_path = os.path.join(foldername, filename)\n",
    "                file_size = os.path.getsize(source_file_path)\n",
    "\n",
    "                if filename not in comparison_files and total_size + file_size <= limit:\n",
    "                    shutil.copy2(source_file_path, os.path.join(destination_directory, filename))\n",
    "                    total_size += file_size\n",
    "                elif total_size + file_size > limit:\n",
    "                    break\n",
    "\n",
    "pattern = '../../dataset/preprocessing-train-set/cartoon/filter-vid*'\n",
    "comparison_directories = [folder for folder in glob.glob(pattern) if os.path.isdir(folder)]\n",
    "\n",
    "# Determine the max_number based on existing directories, or use 0 if none exist\n",
    "if comparison_directories:\n",
    "    max_number = max(\n",
    "        int(folder.split('filter-vid')[-1]) if folder.startswith('../../dataset/preprocessing-train-set/cartoon/filter-vid') and folder.split('filter-vid')[-1].isdigit() else 0\n",
    "        for folder in comparison_directories\n",
    "    )\n",
    "else:\n",
    "    max_number = 0\n",
    "\n",
    "# Increment max_number for the new directory\n",
    "max_number += 1\n",
    "\n",
    "destination_directory = f'../../dataset/preprocessing-train-set/cartoon/filter-vid{max_number}'\n",
    "\n",
    "source_directory = '../../dataset/videos/train/cartoon'\n",
    "copy_files(source_directory, comparison_directories, destination_directory)\n"
   ]
  },
  {
   "cell_type": "markdown",
   "metadata": {},
   "source": [
    "anime"
   ]
  },
  {
   "cell_type": "code",
   "execution_count": 6,
   "metadata": {},
   "outputs": [],
   "source": [
    "import os\n",
    "import shutil\n",
    "import glob\n",
    "\n",
    "def copy_files(source_directory, comparison_directories, destination_directory, limit=500*1024*1024):\n",
    "    total_size = 0\n",
    "\n",
    "    # Make sure comparison_directories is a list\n",
    "    if not isinstance(comparison_directories, list):\n",
    "        comparison_directories = [comparison_directories]\n",
    "\n",
    "    # Accumulate comparison files from all directories\n",
    "    comparison_files = set()\n",
    "    for comp_dir in comparison_directories:\n",
    "        comparison_files.update(os.listdir(comp_dir))\n",
    "\n",
    "    if not os.path.exists(destination_directory):\n",
    "        os.makedirs(destination_directory)\n",
    "\n",
    "    for foldername, subfolders, filenames in os.walk(source_directory):\n",
    "        for filename in filenames:\n",
    "            if filename.endswith('.mp4'):\n",
    "                source_file_path = os.path.join(foldername, filename)\n",
    "                file_size = os.path.getsize(source_file_path)\n",
    "\n",
    "                if filename not in comparison_files and total_size + file_size <= limit:\n",
    "                    shutil.copy2(source_file_path, os.path.join(destination_directory, filename))\n",
    "                    total_size += file_size\n",
    "                elif total_size + file_size > limit:\n",
    "                    break\n",
    "\n",
    "pattern = '../../dataset/preprocessing-train-set/anime/filter-vid*'\n",
    "comparison_directories = [folder for folder in glob.glob(pattern) if os.path.isdir(folder)]\n",
    "\n",
    "# Determine the max_number based on existing directories, or use 0 if none exist\n",
    "if comparison_directories:\n",
    "    max_number = max(\n",
    "        int(folder.split('filter-vid')[-1]) if folder.startswith('../../dataset/preprocessing-train-set/anime/filter-vid') and folder.split('filter-vid')[-1].isdigit() else 0\n",
    "        for folder in comparison_directories\n",
    "    )\n",
    "else:\n",
    "    max_number = 0\n",
    "\n",
    "# Increment max_number for the new directory\n",
    "max_number += 1\n",
    "\n",
    "destination_directory = f'../../dataset/preprocessing-train-set/anime/filter-vid{max_number}'\n",
    "\n",
    "source_directory = '../../dataset/videos/train/anime'\n",
    "copy_files(source_directory, comparison_directories, destination_directory)\n"
   ]
  }
 ],
 "metadata": {
  "kernelspec": {
   "display_name": "faiss",
   "language": "python",
   "name": "python3"
  },
  "language_info": {
   "codemirror_mode": {
    "name": "ipython",
    "version": 3
   },
   "file_extension": ".py",
   "mimetype": "text/x-python",
   "name": "python",
   "nbconvert_exporter": "python",
   "pygments_lexer": "ipython3",
   "version": "3.9.13"
  },
  "orig_nbformat": 4
 },
 "nbformat": 4,
 "nbformat_minor": 2
}
