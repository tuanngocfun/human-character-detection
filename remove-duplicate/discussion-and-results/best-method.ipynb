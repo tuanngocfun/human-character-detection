{
 "cells": [
  {
   "cell_type": "markdown",
   "metadata": {},
   "source": [
    "cosine similarity with elbow method vs with silhouette score"
   ]
  },
  {
   "cell_type": "markdown",
   "metadata": {},
   "source": [
    "# 1. here we need to count the number of .jpg image files in this directory, this \n",
    "directory 'path/to/elbow-method' for marking the cosine similarity with elbow method  \n",
    "# 1.1 and then we count the path for the source images directory containing \n",
    "all-not-running-elbow-method-in-this-directory 'path/to/image-source1'\n",
    "# 2. Also here we need to count number of .jpg image files in this directory, this\n",
    "directory 'path/to/silhouette-score' for marking the cosine similarity with silhouette score\n",
    "# 2.1 and then we count the path for the source image directory containing \n",
    "all-not-running-silhouette-score-in-this-directory 'path/to/image-source1'\n",
    "# 3. Also here we count number of .jpg image files in this directory, this \n",
    "directory 'path/to/find-duplicated-image-manually' for marking this will be for \n",
    "selecting duplicated image manually and put those images in this directory\n",
    "# 3.1 and then we count the path for the source image directory containing\n",
    "all-not-selecting-duplicated-images-files-manually-yet 'path/to/image-source3' \n",
    "# 4. Note that the 'path/to/image-source1' are the same images files with \n",
    "'path/to/image-source2', and 'path/to/image-source3' are the same images files with\n",
    "'path/to/image-source2', in short the following pattern directory'path/to/image-source{number}' \n",
    "are actually exactly the same\n",
    "# 5. here is comming to the mathematics part:\n",
    "- a=count_number_files_in_this_path('path/to/elbow-method')\n",
    "- a1=count_number_files_in_this_path('path/to/image-source1')\n",
    "- b=count_number_files_in_this_path('path/to/silhouette-score')\n",
    "- b1=count_number_files_in_this_path('path/to/image-source2')\n",
    "- c=count_number_files_in_this_path('path/to/find-duplicated-image-manually')\n",
    "- c1=count_number_files_in_this_path('path/to/image-source3')\n",
    "- na=(a/a1)*100\n",
    "- nb=(b/b1)*100\n",
    "- nc=(c/c1)*100\n",
    "then we compare which \"na\" vs \"nb\" is close to \"nc\" -> print out the method is better\n",
    "{\n",
    "    if nc >> na > nb or nc << na < nb:\n",
    "        print('elbow method with higher accuracy in terms of selecting duplicated images')\n",
    "    otherwise:\n",
    "        print('silhouette score with higher accuracy in terms of selecting duplicated images')\n",
    "}"
   ]
  },
  {
   "cell_type": "code",
   "execution_count": 6,
   "metadata": {},
   "outputs": [
    {
     "name": "stdout",
     "output_type": "stream",
     "text": [
      "Copied ../../../filter-frame3 to ../../../compare-method-for-filtering-out-duplicated-image/image-source1\n",
      "Copied ../../../filter-frame3 to ../../../compare-method-for-filtering-out-duplicated-image/image-source2\n",
      "Copied ../../../filter-frame3 to ../../../compare-method-for-filtering-out-duplicated-image/image-source3\n"
     ]
    }
   ],
   "source": [
    "import shutil\n",
    "import os\n",
    "\n",
    "# Source directory to be copied\n",
    "source_directory = '../../../filter-frame3'\n",
    "\n",
    "# Destination directories\n",
    "destination_base = '../../../compare-method-for-filtering-out-duplicated-image/image-source{}'\n",
    "\n",
    "# Number of directories to be created\n",
    "number_of_directories = 3\n",
    "\n",
    "# Loop to create the directories and copy the directory\n",
    "for number in range(1, number_of_directories + 1):\n",
    "    destination_directory = destination_base.format(number)\n",
    "    \n",
    "    # Create directory if it does not exist\n",
    "    os.makedirs(os.path.dirname(destination_directory), exist_ok=True)\n",
    "    \n",
    "    # Copy the directory\n",
    "    shutil.copytree(source_directory, destination_directory, dirs_exist_ok=True)\n",
    "    \n",
    "    print(f\"Copied {source_directory} to {destination_directory}\")\n"
   ]
  },
  {
   "cell_type": "code",
   "execution_count": 8,
   "metadata": {},
   "outputs": [
    {
     "name": "stdout",
     "output_type": "stream",
     "text": [
      "../../../compare-method-for-filtering-out-duplicated-image/image-source1:\n",
      "- with .jpg files: 1113\n"
     ]
    }
   ],
   "source": [
    "import os\n",
    "from collections import defaultdict\n",
    "\n",
    "def count_files_with_same_extension(directory):\n",
    "    extension_count = defaultdict(lambda: defaultdict(int))\n",
    "\n",
    "    for root, dirs, files in os.walk(directory):\n",
    "        for file in files:\n",
    "            try:\n",
    "                file_extension = os.path.splitext(file)[1]\n",
    "                extension_count[root][file_extension] += 1\n",
    "            except PermissionError:\n",
    "                print(f\"Permission denied: {os.path.join(root, file)}, skipping this file.\")\n",
    "            except Exception as e:\n",
    "                print(f\"Error occurred: {e}. Skipping this file.\")\n",
    "    return extension_count\n",
    "\n",
    "def print_extension_counts(extension_count):\n",
    "    for dir_path, extensions in extension_count.items():\n",
    "        print(dir_path + \":\")\n",
    "        for ext, count in extensions.items():\n",
    "            print(f\"- with {ext} files: {count}\")\n",
    "\n",
    "def main():\n",
    "    try:\n",
    "        directory = '../../../compare-method-for-filtering-out-duplicated-image/image-source1'\n",
    "        if not os.path.exists(directory):\n",
    "            print(\"Invalid directory path. Please ensure the directory exists.\")\n",
    "            return\n",
    "        extension_count = count_files_with_same_extension(directory)\n",
    "        print_extension_counts(extension_count)\n",
    "    except Exception as e:\n",
    "        print(f\"An error occurred: {e}\")\n",
    "\n",
    "if __name__ == \"__main__\":\n",
    "    main()"
   ]
  },
  {
   "cell_type": "code",
   "execution_count": 11,
   "metadata": {},
   "outputs": [
    {
     "name": "stdout",
     "output_type": "stream",
     "text": [
      "../../../compare-method-for-filtering-out-duplicated-image/image-source3:\n",
      "- with .jpg files: 1113\n",
      "../../../compare-method-for-filtering-out-duplicated-image/image-source1:\n",
      "- with .jpg files: 1113\n",
      "../../../compare-method-for-filtering-out-duplicated-image/image-source2:\n",
      "- with .jpg files: 1113\n"
     ]
    }
   ],
   "source": [
    "import os\n",
    "from collections import defaultdict\n",
    "\n",
    "def count_files_with_same_extension(directory):\n",
    "    extension_count = defaultdict(lambda: defaultdict(int))\n",
    "\n",
    "    for root, dirs, files in os.walk(directory):\n",
    "        for file in files:\n",
    "            try:\n",
    "                file_extension = os.path.splitext(file)[1]\n",
    "                extension_count[root][file_extension] += 1\n",
    "            except PermissionError:\n",
    "                print(f\"Permission denied: {os.path.join(root, file)}, skipping this file.\")\n",
    "            except Exception as e:\n",
    "                print(f\"Error occurred: {e}. Skipping this file.\")\n",
    "    return extension_count\n",
    "\n",
    "def print_extension_counts(extension_count):\n",
    "    for dir_path, extensions in extension_count.items():\n",
    "        print(dir_path + \":\")\n",
    "        for ext, count in extensions.items():\n",
    "            print(f\"- with {ext} files: {count}\")\n",
    "\n",
    "def main():\n",
    "    try:\n",
    "        directory = '../../../compare-method-for-filtering-out-duplicated-image'\n",
    "        if not os.path.exists(directory):\n",
    "            print(\"Invalid directory path. Please ensure the directory exists.\")\n",
    "            return\n",
    "        extension_count = count_files_with_same_extension(directory)\n",
    "        print_extension_counts(extension_count)\n",
    "    except Exception as e:\n",
    "        print(f\"An error occurred: {e}\")\n",
    "\n",
    "if __name__ == \"__main__\":\n",
    "    main()"
   ]
  },
  {
   "cell_type": "code",
   "execution_count": null,
   "metadata": {},
   "outputs": [],
   "source": [
    "import os\n",
    "\n",
    "def count_number_files_in_this_path(path):\n",
    "    return len([f for f in os.listdir(path) if os.path.isfile(os.path.join(path, f)) and f.endswith('.jpg')])\n",
    "\n",
    "# Counts for the directories\n",
    "a = count_number_files_in_this_path('path/to/elbow-method')\n",
    "a1 = count_number_files_in_this_path('path/to/image-source1')\n",
    "b = count_number_files_in_this_path('path/to/silhouette-score')\n",
    "b1 = count_number_files_in_this_path('path/to/image-source2') \n",
    "c = count_number_files_in_this_path('path/to/find-duplicated-image-manually')\n",
    "c1 = count_number_files_in_this_path('path/to/image-source3')\n",
    "\n",
    "# Calculations\n",
    "na = (a/a1)*100 if a1 != 0 else 0\n",
    "nb = (b/b1)*100 if b1 != 0 else 0\n",
    "nc = (c/c1)*100 if c1 != 0 else 0\n",
    "\n",
    "# Comparison and printing the result based on the clarified 'closer' meaning\n",
    "if ((nc < na < nb) or (nc > na > nb)) and (abs(nc - na) < abs(nc - nb)):\n",
    "    print('elbow method with higher accuracy in terms of selecting duplicated images')\n",
    "else:\n",
    "    print('silhouette score with higher accuracy in terms of selecting duplicated images')"
   ]
  }
 ],
 "metadata": {
  "kernelspec": {
   "display_name": "faiss",
   "language": "python",
   "name": "python3"
  },
  "language_info": {
   "codemirror_mode": {
    "name": "ipython",
    "version": 3
   },
   "file_extension": ".py",
   "mimetype": "text/x-python",
   "name": "python",
   "nbconvert_exporter": "python",
   "pygments_lexer": "ipython3",
   "version": "3.10.12"
  },
  "orig_nbformat": 4
 },
 "nbformat": 4,
 "nbformat_minor": 2
}
